{
 "cells": [
  {
   "cell_type": "markdown",
   "id": "249debe7",
   "metadata": {},
   "source": [
    "# Object Oriented Programming Challenge\n",
    "Coba sekarang lo buat class bernama 'Bank' yang di dalamnya memiliki attribute:\n",
    "- owner\n",
    "- balance\n",
    "\n",
    "Dengan 2 method di dalam classnya yang bernama:\n",
    "\n",
    "- deposit\n",
    "- withdrawal\n",
    "\n",
    "Dengan kondisi classnya itu dapat bekerja ketika dia menabung dan mengambil uang. Dan dengan syarat tambahan, uang yang ditarik tidak boleh melebihi dari sisa saldonya, lalu berikan keterangan ketika orang itu mengambil uang melebihi sisa saldonya."
   ]
  },
  {
   "cell_type": "code",
   "execution_count": 1,
   "id": "cbc15dc4",
   "metadata": {},
   "outputs": [],
   "source": [
    "class Account:\n",
    "    \n",
    "    def __init__ (self, owner, balance=0):\n",
    "        self.owner = owner\n",
    "        self.balance = balance\n",
    "        \n",
    "        \n",
    "    def deposit (self, depo_amount):\n",
    "        self.balance = self.balance + depo_amount\n",
    "        print(f'Added {depo_amount} to the balance')\n",
    "        \n",
    "        \n",
    "    def withdrawal (self, wd_amount):\n",
    "        if self.balance >= wd_amount:\n",
    "            self.balance = self.balance - wd_amount\n",
    "            print ('Withdrawal accepted')\n",
    "            \n",
    "        else:\n",
    "            print ('Sorry, not enough funds!')\n",
    "    \n",
    "    \n",
    "    def __str__ (self):\n",
    "        return (f'Owner: {self.owner} \\nBalance: {self.balance}')"
   ]
  },
  {
   "cell_type": "markdown",
   "id": "8c770976",
   "metadata": {},
   "source": [
    "**PENJELASANNYA**\n",
    "```\n",
    "Jadi pada problem kali ini tuh lo disuruh membuat 'class' dengan nama 'Account' untuk seorang member yang baru saja membuat bank account.\n",
    "\n",
    "Pada problem kali ini, ada 4 kondisi yang diperlukan:\n",
    "1. Kondisi tetang nama sebagai identitas pemilik tabungannya (owner) dan saldonya (balance)\n",
    "2. Kondisi ketika dia menabung (deposit)\n",
    "3. Kondisi ketika dia melakukan penarikan\n",
    "4. Ringkasan tentang bank account miliknya\n",
    "\n",
    "`KONDISI 1: Kondisi tetang nama sebagai identitas pemilik tabungan (owner) dan saldonya (balance)`\n",
    "def __init__ (self, owner, balance=0): \n",
    "    self.owner = owner\n",
    "    self.balance = balance\n",
    "\n",
    "'ALUR BERPIKIR PADA KONDISI 1'\n",
    "1. def __init__ (self, owner, balance=0):\n",
    "\n",
    "Informasi yang paling penting dalam membuka tabungan adalah nama pemilik tabungan (owner) dan saldonya (balance) sehingga 'owner' dan 'saldo' ini bisa dijadikan sebagai object untuk argument di dalam '__init__'\n",
    "\n",
    "2.  self.owner = owner\n",
    "    self.balance = balance\n",
    "\n",
    "Karena pada kasus ini 'owner' dan 'balance' merupakan informasi yang paling penting, maka lo bisa menjadikan keduanya sebagai attribute pada class-nya sehingga nanti object dari 'owner' dan 'balance' ini bisa diakses kembali untuk memberikan hasil.\n",
    "\n",
    "_____________________________________________________________________________________________ \n",
    "`KONDISI 2: Kondisi ketika dia menabung (deposit)`\n",
    "\n",
    "def deposit (self, depo_amount):\n",
    "    self.balance = self.balance + depo_amount\n",
    "    print(f'Added {depo_amount} to the balance')\n",
    "\n",
    "\n",
    "'ALUR BERPIKIR PADA KONDISI 2'\n",
    "1. def deposit (self, depo_amount):\n",
    "\n",
    "Jadi poin 1 ini lo membuat method/fungsi dengan kondisi ketika dia menabung. Dalam hal ini object yang dimasukan di dalam methodnya adalah 'depo_amount' yang menjelaskan jumlah uang yang ditabung.\n",
    "\n",
    "2. self.balance = self.balance + depo_amount\n",
    "\n",
    "Jadi pada poin 2 ini merupakan formulasi perhitungan di dalam method 'deposit' ketika dia melakukan penyetoran uang untuk tabungannya.\n",
    "\n",
    "`Pertanyaannya:` \n",
    "Kenapa object dari 'depo_amount' tidak menggunakan 'self'?\n",
    "\n",
    "'Jawabannya:'\n",
    "Hal ini karena 'depo_amount' itu hanya 'object' yang digunakan untuk menghitung jumlah saldonya (balance) ada berapa. Hal ini menyebabkan yang dijadikan `attribute` pada method 'deposit' itu bukan 'depo_amont', melainkan 'balance'-nya.\n",
    "\n",
    "3. print(f'Added {depo_amount} to the balance')\n",
    "Setelah poin 2 dibuat, maka pada poin 3 ini lo membuat keterangan ketika method 'deposit' berhasil dieksekusi.\n",
    "\n",
    "Pada poin 3 ini lo menggunakan teknik 'formatted stirng'. Ada 2 cara yang bisa digunakan ketika lo menggunakan 'formatted string':\n",
    "- Menggunakan 'f' dan memasukkan nilai yang diinginkan di dalam curly braces --> f'Added {depo_amount} to the balance'\n",
    "\n",
    "- Tidak menggunakan 'f', tapi menambahkan attribute '.format()' di akhir stringnya --> ('Added {} to the balance'.format(depo_amount))\n",
    "\n",
    "Cara kedua ini lo gak memasukkan nilainya di dalam 'curly braces' karena nilainya dimasukkan di dalam attribute 'format()' -->  format(depo_amount)\n",
    "\n",
    "_____________________________________________________________________________________________\n",
    "`KONDISI 3: Kondisi ketika dia melakukan penarikan`\n",
    "\n",
    "def withdrawal (self, wd_amount):\n",
    "    if self.balance >= wd_amount:\n",
    "       self.balance = self.balance - wd_amount\n",
    "       print ('Withdrawal accepted')\n",
    "            \n",
    "    else:\n",
    "        print ('Sorry, not enough funds!')\n",
    "\n",
    "\n",
    "'ALUR BERPIKIR PADA KONDISI 3'\n",
    "1. def withdrawal (self, wd_amount):\n",
    "\n",
    "Karena kondisi 3 ini merupakan kondisi ketika dia melakukan penarikan (withdrawal), maka di sini lo harus membuat object yang menyatakan jumlah penarikan saldonya. Dalam hal ini nama objectnya adalah 'wd_amount'\n",
    "\n",
    "'wd_amout': withdrawal amount\n",
    "\n",
    "\n",
    "2. if self.balance >= wd_amount:\n",
    "      self.balance = self.balance - wd_amount\n",
    "      print ('Withdrawal accepted')\n",
    "\n",
    "Poin 2 ini merupakan formulasi yang menjelaskan kondisi ketika dia mengambil sejumlah uang dari tabungannya.\n",
    "\n",
    "'Cara baca poin 2:'\n",
    "\n",
    "2.1 'if self.balance >= wd_amount:'\n",
    "Jika sisa uang di dalam tabungannya lebih besar atau sama dengan jumlah penarikannya, maka... (lanjut ke poin berikutnya).\n",
    "\n",
    "2.2 'self.balance = self.balance - wd_amount'\n",
    "...Jumlah uang sisa tabungannya akan dikurangi dengan jumlah uang yang diambil, lalu simpan hasilnya sebagai sisa uang di dalam tabungannya (self.balance).\n",
    "\n",
    "2.3 print ('Withdrawal accepted')\n",
    "Jika poin 2.1 dan 2.2 terpenuhi, maka eksekusi (print) poin 2.3 dengan keterangan 'Withdrawal accepted'\n",
    "\n",
    "2.4 else:\n",
    "       print ('Sorry, not enough funds!')\n",
    "Jika poin 2.1 dan poin 2.2 tidak terpenuh, maka alternatifnya (else) dia akan mengekskeusi keterangan \"Sorry, not enough funds!\"\n",
    "\n",
    "_____________________________________________________________________________________________\n",
    "`KONDISI 4: Ringkasan tentang bank account miliknya`\n",
    "\n",
    "def __str__ (self):\n",
    "    return (f'Owner: {self.owner} \\nBalance: {self.balance}')\n",
    "\n",
    "\n",
    "'ALUR BERPIKIR PADA KONDISI 4'\n",
    "Jadi setelah kondisi 1 sampai kondisi 3 dibuat, maka kondisi 4 ini merupakan kondisi yang dibuat untuk memberikan ringkasan tentang tabungannya ketika member itu melakukan transaksi.\n",
    "\n",
    "1. def __str__ (self):\n",
    "Karena pada kondisi 4 ini dibuat hanya digunakan untuk memberikan keterangan tabungan dari membernya, maka poin 1 ini lo membuat 'Magic/Dunder' method dengan menggunakan '__str__'\n",
    "\n",
    "'__str__' ini merupakan 'Magic/Dunder' method yang digunakan ketika hasil yang dinginkan itu bertipe 'string'\n",
    "\n",
    "2. return (f'Owner: {self.owner} \\nBalance: {self.balance}')\n",
    "Pada poin 2 ini hasil yang diinginkan berupa string yang menggunakan teknik 'formatted string'\n",
    "\n",
    "Karena kondisi 4 ini merupakan kondisi yang memberikan ringkasan terhadap tabungan membernya, maka nilai yang dimasukkan itu sama seperti data identitas yang dibuat pada kondisi 1: 'self.owner' dan 'self.balance'\n",
    "\n",
    "'\\n' --> ini digunakan untuk 'enter'\n",
    "\n",
    "`FYI`\n",
    "Kalo lo liat, semua argument di dalam 'method' pada kasus ini tuh menggunakan 'self'. Hal ini dilakukan agar object yang dibuat itu saling terkoneksi satu sama lain.\n",
    "```"
   ]
  },
  {
   "cell_type": "code",
   "execution_count": 2,
   "id": "70fc8e41",
   "metadata": {},
   "outputs": [],
   "source": [
    "account = Account ('Bambang', 10000000)"
   ]
  },
  {
   "cell_type": "code",
   "execution_count": 3,
   "id": "ffa2fab0",
   "metadata": {},
   "outputs": [
    {
     "data": {
      "text/plain": [
       "'Bambang'"
      ]
     },
     "execution_count": 3,
     "metadata": {},
     "output_type": "execute_result"
    }
   ],
   "source": [
    "account.owner"
   ]
  },
  {
   "cell_type": "code",
   "execution_count": 4,
   "id": "bf26be8a",
   "metadata": {},
   "outputs": [
    {
     "data": {
      "text/plain": [
       "10000000"
      ]
     },
     "execution_count": 4,
     "metadata": {},
     "output_type": "execute_result"
    }
   ],
   "source": [
    "account.balance"
   ]
  },
  {
   "cell_type": "code",
   "execution_count": 5,
   "id": "6875d63b",
   "metadata": {},
   "outputs": [
    {
     "name": "stdout",
     "output_type": "stream",
     "text": [
      "Owner: Bambang \n",
      "Balance: 10000000\n"
     ]
    }
   ],
   "source": [
    "print(account)"
   ]
  },
  {
   "cell_type": "code",
   "execution_count": 6,
   "id": "ee52dd17",
   "metadata": {},
   "outputs": [
    {
     "data": {
      "text/plain": [
       "<__main__.Account at 0x215bfc44bb0>"
      ]
     },
     "execution_count": 6,
     "metadata": {},
     "output_type": "execute_result"
    }
   ],
   "source": [
    "account\n",
    "\n",
    "#Kalo lo gak menggunakan 'print', maka hasilnya itu cuman nama classnya doang."
   ]
  },
  {
   "cell_type": "markdown",
   "id": "05cca2ed",
   "metadata": {},
   "source": [
    "**PENJELASANNYA**\n",
    "```\n",
    "1. account = Account ('Bambang', 10000000)\n",
    "Poin 1 ini lo menggunakan nama class-nya dengan argument 'Sam' dan 10000000.\n",
    "\n",
    "INGET! pada kondisi 1 itu object yang digunakan di dalam argument '__init__' untuk mengeksekusi class-nya adalah 'owner' dan 'balance' sehingga:\n",
    "\n",
    "'Sam' --> owner\n",
    " 500 --> balance\n",
    "\n",
    "Hal ini berarti nama pemilik akun itu adalah 'Bambang' dengan jumlah tabungan 10jt.\n",
    "\n",
    "2. account.owner\n",
    "Poin 2 ini lo menggunakan attribute 'owner' untuk melihat nama pemilik dari akun tersebut, yakni 'Bambang'\n",
    "\n",
    "Kalo posisi antara 'Sam' dan 10000000 pada poin 1 dituker, maka hasil dari poin 2 ini adalah 10000000 yang mana itu gak nyambung, dong.\n",
    "\n",
    "Jadi posisi argument pada poin 1 itu HARUS SESUAI DENGAN YANG ADA DI DALAM 'MAGIC/DUNDER' METHODNYAAAAAAAA\n",
    "\n",
    "3. account.balance\n",
    "Poin 2 ini lo menggunakan attribute 'balance' untuk melihat jumlah uang tabungan yang dimiliki oleh 'Bambang', yakni 10000000\n",
    "\n",
    "4. print(account)\n",
    "Poin 4 ini lo mengeksekusi apa yang ada di kondisi 4, yakni ringkasan tentang bank account miliknya yang berisi nama pemiliknya dan juga saldo tabungannya.\n",
    "\n",
    "`Pertanyaannya:`\n",
    "Kenapa kalo hanya menggunakan 'account' cuman keluar nama class-nya doang?\n",
    "\n",
    "'Jawabannya:'\n",
    "Hal ini karena di dalam class 'Account' itu memiliki berbagai macam method untuk setiap kondisi yang terjadi.\n",
    "\n",
    "Penggunaan 'print' dilakukan supaya lo bisa mengeksekusi semua kondisi yang terjadi di dalam classnya.\n",
    "\n",
    "`Pertanyaan selanjutnya:`\n",
    "Tapi kenapa di dalam method kondisi ke 4 menggunakan 'return' bukan 'print'?\n",
    "\n",
    "'Jawabannya:'\n",
    "Hal ini karena '__str__' itu di design memang untuk 'return' BUKAN 'print'\n",
    "\n",
    "Kalo lo ganti 'return' nya menjadi 'print', maka hasil dari poin 4 akan error dengan keterangan:\n",
    "'TypeError: __str__ returned non-string (type NoneType)'\n",
    "\n",
    "Keterangan itu menjelaskan kalo 'print' memang tidak bisa digunakan pada 'Magic/Dunder' method dari '__str__'\n",
    "```"
   ]
  },
  {
   "attachments": {
    "image-2.png": {
     "image/png": "[encoded data removed]"
    }
   },
   "cell_type": "markdown",
   "id": "2f089b5c",
   "metadata": {},
   "source": [
    "![image-2.png](attachment:image-2.png)\n",
    "\n",
    "Source: https://stackoverflow.com/questions/11871221/python-typeerror-str-returned-non-string-but-still-prints-to-output"
   ]
  },
  {
   "cell_type": "code",
   "execution_count": 7,
   "id": "7d739547",
   "metadata": {},
   "outputs": [
    {
     "name": "stdout",
     "output_type": "stream",
     "text": [
      "Added 5000000 to the balance\n"
     ]
    }
   ],
   "source": [
    "account.deposit(5000000)"
   ]
  },
  {
   "cell_type": "code",
   "execution_count": 8,
   "id": "265b11af",
   "metadata": {},
   "outputs": [
    {
     "name": "stdout",
     "output_type": "stream",
     "text": [
      "Withdrawal accepted\n"
     ]
    }
   ],
   "source": [
    "account.withdrawal(150000)"
   ]
  },
  {
   "cell_type": "code",
   "execution_count": 9,
   "id": "7a2a8ff7",
   "metadata": {},
   "outputs": [
    {
     "name": "stdout",
     "output_type": "stream",
     "text": [
      "Owner: Bambang \n",
      "Balance: 14850000\n"
     ]
    }
   ],
   "source": [
    "print(account)"
   ]
  },
  {
   "cell_type": "code",
   "execution_count": 10,
   "id": "8cc4fd26",
   "metadata": {
    "scrolled": true
   },
   "outputs": [
    {
     "name": "stdout",
     "output_type": "stream",
     "text": [
      "Sorry, not enough funds!\n"
     ]
    }
   ],
   "source": [
    "account.withdrawal(20000000)"
   ]
  },
  {
   "cell_type": "markdown",
   "id": "32e577fa",
   "metadata": {},
   "source": [
    "**PENJELASANNYA**\n",
    "```\n",
    "1. account.deposit(5000000)\n",
    "Poin 1 ini lo mengeksekusi method 'deposit'-nya yang mana ceritanya dia menabung sebesar 5jt.\n",
    "\n",
    "\n",
    "2. account.withdrawal(150000)\n",
    "Poin 1 ini lo mengeksekusi method 'withdrawal'-nya yang mana ceritanya dia menarik uang sebesar 150rb.\n",
    "\n",
    "\n",
    "3. print(account)\n",
    "Setelah lo melakukan berbagai kegiatan, seperti menabung dan menarik uangnya, maka poin 3 ini lo mengeksekusi kondisi ke 4 yang memberikan keterangan terhadap tabungannya.\n",
    "\n",
    "`Pertanyaannya:`\n",
    "Kenapa pada poin 3 ini bisa mengeksekusi kondisi ke 4 padahal tidak mengakses attribute apa-apa pada 'account' nya?\n",
    "\n",
    "'Jawabannya:'\n",
    "Hal ini karena pada kondisi ke 4 itu menggunakan 'Magic/Dunder' method '__str__' yang dapat membaca nilai yang berupa 'string'. Dalam hal ini 'Bambang' merupakan data yang bertipe 'string'.\n",
    "\n",
    "`Pertanyaan selanjutnya:`\n",
    "Kenapa ketika data 'Bambang' di hapus menjadi --> account = Account (10000000), code masih tetap bisa dieksekusi?\n",
    "\n",
    "'Jawabannya:'\n",
    "Hal ini karena 'Magic/Dunder' method dari '__init__' memberikan nilai 0 by default pada object 'balance'-nya --> def __init__ (self, owner, balance=0) sehingga walaupun lo menghapus 'Bambang', code masih bisa dieksekusi.\n",
    "\n",
    "Kalo lo tekan 'tab' pada 'Account()'-nya, maka sebenarnya di dalam classnya itu terdapat object 'owner' dan 'balance' sebagai argumentnya.\n",
    "\n",
    "Kalo lo hapus nilai 0 pada 'balance'-nya menjadi --> def __init__ (self, owner, balance), maka ketika lo mengeksekusi poin 3 dengan kondisi --> account = Account (10000000), maka hasilnya akan error. \n",
    "\n",
    "Kenapa error?\n",
    "\n",
    "Hal ini karena class dari 'Account' tidak bisa membaca argument yang dimasukkan karena memang tidak ada kondisi yang menyajikan hal itu.\n",
    "\n",
    "Jadi pada problem kali ini selama data yang lo masukkan itu bertipe 'string', maka poin 3 ini bisa diekskusi karena terbaca oleh method yang ada di kondisi ke 4.\n",
    "\n",
    "Hasil dari poin 3 ini merupakan kalkulasi terhadap seluruh kegiatan yang telah dilakukan oleh pemilik tabungannya.\n",
    "\n",
    "Saldo awal = 10000000\n",
    "Nabung = 5000000\n",
    "Ditarik = 150000\n",
    "\n",
    "Sisa saldo: 14850000\n",
    "\n",
    "\n",
    "4. account.withdrawal(20000000)\n",
    "Pada poin 4 ini ceritanya menarik uang sebesar 20jt dengan menggunakan method 'withdrawal'.\n",
    "\n",
    "Karena jumlah uang yang ditarik itu melebihi sisa saldonya, maka hasil yang diberikan itu merupakan hasil dari ketika formulasinya tidak terpenuhi:\n",
    "\n",
    "else:\n",
    "    print ('Sorry, not enough funds!')\n",
    "\n",
    "\n",
    "`Pertanyaannya:`\n",
    "Kenapa dari seluruh hasil yang diberikan itu bisa berkelanjutan dan bisa digunakan berkali-kali?\n",
    "\n",
    "'Jawabannya:'\n",
    "Hal ini karena seluruh metode yang ada menggunakan 'self' sehingga semua object bisa saling terkoneksi satu sama lain. Dan inilah esensi dari mempelajari Object Oriented Programming yang mana lo tidak usah capek-capek lagi mengedit atau menambahkan fungsi baru.\n",
    "```"
   ]
  },
  {
   "cell_type": "markdown",
   "id": "d6696628",
   "metadata": {},
   "source": [
    "____\n",
    "\n",
    "_____"
   ]
  },
  {
   "cell_type": "markdown",
   "id": "204ebca5",
   "metadata": {},
   "source": [
    "### LATIHAN 1\n",
    "```\n",
    "`SEKARANG COBA LO BUAT ULANG LAGI SEBANYAK 10X!!!!!!!!!!!!!!!!!!!!!`\n",
    "Coba sekarang lo buat 'class' bernama 'Bank' yang di dalamnya memiliki attribute:\n",
    "- owner\n",
    "- balance\n",
    "\n",
    "Dengan 2 method di dalam classnya yang bernama:\n",
    "\n",
    "- deposit\n",
    "- withdrawal\n",
    "\n",
    "Dengan kondisi classnya itu dapat bekerja ketika dia menabung dan mengambil uang. Dan dengan syarat tambahan, uang yang ditarik tidak boleh melebihi dari sisa saldonya, lalu berikan keterangan ketika orang itu mengambil uang melebihi sisa saldonya.\n",
    "```"
   ]
  },
  {
   "cell_type": "code",
   "execution_count": 11,
   "id": "06eb16c0",
   "metadata": {},
   "outputs": [],
   "source": [
    "class Account():\n",
    "    \n",
    "    def __init__ (self, owner, balance = 0):\n",
    "        self.owner = owner\n",
    "        self.balance = balance\n",
    "        \n",
    "    def deposit (self, depo_amount):\n",
    "        self.balance = self.balance + depo_amount\n",
    "        print ('Jumlah uang yang ditabung sebesar {}'.format(depo_amount))\n",
    "        \n",
    "    def withdrawal(self, wd_amount):\n",
    "        if self.balance >= wd_amount:\n",
    "            self.balance = self.balance + wd_amount\n",
    "            print(f'Penarikan uang sejumlah {wd_amount} berhasil dilakukan')\n",
    "        \n",
    "        else:\n",
    "            print('Liat saldonya, duitnya cukup apa engga.')\n",
    "            \n",
    "    def __str__ (self):\n",
    "        return (f'Nama: {self.owner} \\nSaldo Tabungan: {self.balance}')"
   ]
  },
  {
   "cell_type": "code",
   "execution_count": 12,
   "id": "5c8ebde5",
   "metadata": {},
   "outputs": [],
   "source": [
    "account = Account(owner='kucing', balance = 100000)"
   ]
  },
  {
   "cell_type": "code",
   "execution_count": 13,
   "id": "747e4174",
   "metadata": {},
   "outputs": [
    {
     "data": {
      "text/plain": [
       "'kucing'"
      ]
     },
     "execution_count": 13,
     "metadata": {},
     "output_type": "execute_result"
    }
   ],
   "source": [
    "account.owner"
   ]
  },
  {
   "cell_type": "code",
   "execution_count": 14,
   "id": "09788590",
   "metadata": {},
   "outputs": [
    {
     "data": {
      "text/plain": [
       "100000"
      ]
     },
     "execution_count": 14,
     "metadata": {},
     "output_type": "execute_result"
    }
   ],
   "source": [
    "account.balance"
   ]
  },
  {
   "cell_type": "code",
   "execution_count": 15,
   "id": "83a8065f",
   "metadata": {},
   "outputs": [
    {
     "name": "stdout",
     "output_type": "stream",
     "text": [
      "Jumlah uang yang ditabung sebesar 50000\n"
     ]
    }
   ],
   "source": [
    "account.deposit(50000)"
   ]
  },
  {
   "cell_type": "code",
   "execution_count": 16,
   "id": "d935895c",
   "metadata": {},
   "outputs": [
    {
     "data": {
      "text/plain": [
       "150000"
      ]
     },
     "execution_count": 16,
     "metadata": {},
     "output_type": "execute_result"
    }
   ],
   "source": [
    "account.balance"
   ]
  },
  {
   "cell_type": "code",
   "execution_count": 17,
   "id": "2bae9acf",
   "metadata": {},
   "outputs": [
    {
     "name": "stdout",
     "output_type": "stream",
     "text": [
      "Penarikan uang sejumlah 75420 berhasil dilakukan\n"
     ]
    }
   ],
   "source": [
    "account.withdrawal(wd_amount=75420)"
   ]
  },
  {
   "cell_type": "code",
   "execution_count": 18,
   "id": "33785c90",
   "metadata": {},
   "outputs": [
    {
     "data": {
      "text/plain": [
       "225420"
      ]
     },
     "execution_count": 18,
     "metadata": {},
     "output_type": "execute_result"
    }
   ],
   "source": [
    "account.balance"
   ]
  },
  {
   "cell_type": "code",
   "execution_count": 19,
   "id": "64db9867",
   "metadata": {},
   "outputs": [
    {
     "name": "stdout",
     "output_type": "stream",
     "text": [
      "Liat saldonya, duitnya cukup apa engga.\n"
     ]
    }
   ],
   "source": [
    "account.withdrawal(500000)"
   ]
  },
  {
   "cell_type": "code",
   "execution_count": 20,
   "id": "40fcabf3",
   "metadata": {},
   "outputs": [
    {
     "name": "stdout",
     "output_type": "stream",
     "text": [
      "Nama: kucing \n",
      "Saldo Tabungan: 225420\n"
     ]
    }
   ],
   "source": [
    "print(account)"
   ]
  },
  {
   "cell_type": "markdown",
   "id": "6241ca9f",
   "metadata": {},
   "source": [
    "### LATIHAN 2\n",
    "```\n",
    "Coba sekarang lo buat 'class' bernama 'Bank' yang di dalamnya memiliki attribute:\n",
    "- owner\n",
    "- balance\n",
    "\n",
    "Dengan 2 method di dalam classnya yang bernama:\n",
    "\n",
    "- deposit\n",
    "- withdrawal\n",
    "\n",
    "Dengan kondisi classnya itu dapat bekerja ketika dia menabung dan mengambil uang. Dan dengan syarat tambahan, uang yang ditarik tidak boleh melebihi dari sisa saldonya, lalu berikan keterangan ketika orang itu mengambil uang melebihi sisa saldonya.\n",
    "```"
   ]
  },
  {
   "cell_type": "code",
   "execution_count": 21,
   "id": "1bd84555",
   "metadata": {},
   "outputs": [],
   "source": [
    "class Account():\n",
    "    \n",
    "    def __init__ (self, owner, balance):\n",
    "        self.owner = owner\n",
    "        self.balance = balance\n",
    "        \n",
    "    def deposit(self, depo_amount):\n",
    "        self.balance = self.balance + depo_amount\n",
    "        print(f'Jumlah uang yang ditabung sebesar {depo_amount}')\n",
    "        \n",
    "    def withdrawal(self, wd_amount):\n",
    "        if self.balance >= wd_amount:\n",
    "            self.balance = self.balance - wd_amount\n",
    "            print('Uang yang diambil sebesar {}'.format(wd_amount))\n",
    "        \n",
    "        else:\n",
    "            print ('Tau diri lah, Bro')\n",
    "    \n",
    "    def __str__ (self):\n",
    "        return (f'Nama: {self.owner} \\nSisa saldo: {self.balance}')"
   ]
  },
  {
   "cell_type": "code",
   "execution_count": 22,
   "id": "5174073a",
   "metadata": {},
   "outputs": [],
   "source": [
    "acc = Account('Ayam', 2560000)"
   ]
  },
  {
   "cell_type": "code",
   "execution_count": 23,
   "id": "284f7b3f",
   "metadata": {},
   "outputs": [
    {
     "data": {
      "text/plain": [
       "'Ayam'"
      ]
     },
     "execution_count": 23,
     "metadata": {},
     "output_type": "execute_result"
    }
   ],
   "source": [
    "acc.owner"
   ]
  },
  {
   "cell_type": "code",
   "execution_count": 24,
   "id": "5488ec0d",
   "metadata": {},
   "outputs": [
    {
     "data": {
      "text/plain": [
       "2560000"
      ]
     },
     "execution_count": 24,
     "metadata": {},
     "output_type": "execute_result"
    }
   ],
   "source": [
    "acc.balance"
   ]
  },
  {
   "cell_type": "code",
   "execution_count": 25,
   "id": "346972e1",
   "metadata": {},
   "outputs": [
    {
     "name": "stdout",
     "output_type": "stream",
     "text": [
      "Jumlah uang yang ditabung sebesar 73500\n"
     ]
    }
   ],
   "source": [
    "acc.deposit(73500)"
   ]
  },
  {
   "cell_type": "code",
   "execution_count": 26,
   "id": "47ac1a44",
   "metadata": {},
   "outputs": [
    {
     "data": {
      "text/plain": [
       "2633500"
      ]
     },
     "execution_count": 26,
     "metadata": {},
     "output_type": "execute_result"
    }
   ],
   "source": [
    "acc.balance"
   ]
  },
  {
   "cell_type": "code",
   "execution_count": 27,
   "id": "f6f6686d",
   "metadata": {},
   "outputs": [
    {
     "name": "stdout",
     "output_type": "stream",
     "text": [
      "Uang yang diambil sebesar 123490\n"
     ]
    }
   ],
   "source": [
    "acc.withdrawal(wd_amount=123490)"
   ]
  },
  {
   "cell_type": "code",
   "execution_count": 28,
   "id": "c4649bbf",
   "metadata": {},
   "outputs": [
    {
     "data": {
      "text/plain": [
       "2510010"
      ]
     },
     "execution_count": 28,
     "metadata": {},
     "output_type": "execute_result"
    }
   ],
   "source": [
    "acc.balance"
   ]
  },
  {
   "cell_type": "code",
   "execution_count": 29,
   "id": "9df28f96",
   "metadata": {},
   "outputs": [
    {
     "name": "stdout",
     "output_type": "stream",
     "text": [
      "Tau diri lah, Bro\n"
     ]
    }
   ],
   "source": [
    "acc.withdrawal(10000000)"
   ]
  },
  {
   "cell_type": "code",
   "execution_count": 30,
   "id": "ab20792b",
   "metadata": {},
   "outputs": [
    {
     "name": "stdout",
     "output_type": "stream",
     "text": [
      "Nama: Ayam \n",
      "Sisa saldo: 2510010\n"
     ]
    }
   ],
   "source": [
    "print(acc)"
   ]
  },
  {
   "cell_type": "markdown",
   "id": "350574b7",
   "metadata": {},
   "source": [
    "### LATIHAN 3\n",
    "```\n",
    "Coba sekarang lo buat 'class' bernama 'Bank' yang di dalamnya memiliki attribute:\n",
    "- owner\n",
    "- balance\n",
    "\n",
    "Dengan 2 method di dalam classnya yang bernama:\n",
    "\n",
    "- deposit\n",
    "- withdrawal\n",
    "\n",
    "Dengan kondisi classnya itu dapat bekerja ketika dia menabung dan mengambil uang. Dan dengan syarat tambahan, uang yang ditarik tidak boleh melebihi dari sisa saldonya, lalu berikan keterangan ketika orang itu mengambil uang melebihi sisa saldonya.\n",
    "```"
   ]
  },
  {
   "cell_type": "code",
   "execution_count": 31,
   "id": "e5fcf865",
   "metadata": {},
   "outputs": [],
   "source": [
    "class Account():\n",
    "    \n",
    "    def __init__ (self, owner, balance):\n",
    "        self.owner = owner\n",
    "        self.balance = balance\n",
    "        \n",
    "    def deposit (self, depo_amount):\n",
    "        self.balance = self.balance + depo_amount\n",
    "        print('Adding {} to the balance'.format(depo_amount))\n",
    "        \n",
    "    def withdrawal (self, wd_amount):\n",
    "        if self.balance >= wd_amount:\n",
    "            self.balance = self.balance - wd_amount\n",
    "            print('Withdrawal accepted')\n",
    "        \n",
    "        else:\n",
    "            print('Sorry, not enough funds!')\n",
    "            \n",
    "    def __str__ (self):\n",
    "        return ('Owner: {} \\nBalance: {}'.format(self.owner, self.balance))"
   ]
  },
  {
   "cell_type": "code",
   "execution_count": 32,
   "id": "549952cf",
   "metadata": {},
   "outputs": [],
   "source": [
    "acc = Account('Frank', 45000000)"
   ]
  },
  {
   "cell_type": "code",
   "execution_count": 33,
   "id": "9e2c463c",
   "metadata": {},
   "outputs": [
    {
     "data": {
      "text/plain": [
       "'Frank'"
      ]
     },
     "execution_count": 33,
     "metadata": {},
     "output_type": "execute_result"
    }
   ],
   "source": [
    "acc.owner"
   ]
  },
  {
   "cell_type": "code",
   "execution_count": 34,
   "id": "0f912dcf",
   "metadata": {},
   "outputs": [
    {
     "data": {
      "text/plain": [
       "45000000"
      ]
     },
     "execution_count": 34,
     "metadata": {},
     "output_type": "execute_result"
    }
   ],
   "source": [
    "acc.balance"
   ]
  },
  {
   "cell_type": "code",
   "execution_count": 35,
   "id": "c4f9107c",
   "metadata": {},
   "outputs": [
    {
     "name": "stdout",
     "output_type": "stream",
     "text": [
      "Adding 10000000 to the balance\n"
     ]
    }
   ],
   "source": [
    "acc.deposit(depo_amount= 10000000)"
   ]
  },
  {
   "cell_type": "code",
   "execution_count": 36,
   "id": "6a7ae796",
   "metadata": {},
   "outputs": [
    {
     "data": {
      "text/plain": [
       "55000000"
      ]
     },
     "execution_count": 36,
     "metadata": {},
     "output_type": "execute_result"
    }
   ],
   "source": [
    "acc.balance"
   ]
  },
  {
   "cell_type": "code",
   "execution_count": 37,
   "id": "0dcb389a",
   "metadata": {},
   "outputs": [
    {
     "name": "stdout",
     "output_type": "stream",
     "text": [
      "Withdrawal accepted\n"
     ]
    }
   ],
   "source": [
    "acc.withdrawal(wd_amount=1230000)"
   ]
  },
  {
   "cell_type": "code",
   "execution_count": 38,
   "id": "7fb36788",
   "metadata": {},
   "outputs": [
    {
     "data": {
      "text/plain": [
       "53770000"
      ]
     },
     "execution_count": 38,
     "metadata": {},
     "output_type": "execute_result"
    }
   ],
   "source": [
    "acc.balance"
   ]
  },
  {
   "cell_type": "code",
   "execution_count": 39,
   "id": "e80864c7",
   "metadata": {},
   "outputs": [
    {
     "name": "stdout",
     "output_type": "stream",
     "text": [
      "Sorry, not enough funds!\n"
     ]
    }
   ],
   "source": [
    "acc.withdrawal(1230000000)"
   ]
  },
  {
   "cell_type": "code",
   "execution_count": 40,
   "id": "e8b4e7af",
   "metadata": {},
   "outputs": [
    {
     "name": "stdout",
     "output_type": "stream",
     "text": [
      "Owner: Frank \n",
      "Balance: 53770000\n"
     ]
    }
   ],
   "source": [
    "print(acc)"
   ]
  },
  {
   "cell_type": "markdown",
   "id": "89d29861",
   "metadata": {},
   "source": [
    "### LATIHAN 4\n",
    "```\n",
    "Coba sekarang lo buat 'class' bernama 'Bank' yang di dalamnya memiliki attribute:\n",
    "- owner\n",
    "- balance\n",
    "\n",
    "Dengan 2 method di dalam classnya yang bernama:\n",
    "\n",
    "- deposit\n",
    "- withdrawal\n",
    "\n",
    "Dengan kondisi classnya itu dapat bekerja ketika dia menabung dan mengambil uang. Dan dengan syarat tambahan, uang yang ditarik tidak boleh melebihi dari sisa saldonya, lalu berikan keterangan ketika orang itu mengambil uang melebihi sisa saldonya.\n",
    "```"
   ]
  },
  {
   "cell_type": "code",
   "execution_count": 41,
   "id": "5f6a10ad",
   "metadata": {},
   "outputs": [],
   "source": [
    "class Account:\n",
    "    \n",
    "    def __init__(self, owner, balance):\n",
    "        self.owner = owner\n",
    "        self.balance = balance\n",
    "        \n",
    "    def deposit (self, depo_amount):\n",
    "        self.balance += depo_amount\n",
    "        print ('Adding {} to your account'.format(depo_amount))\n",
    "        \n",
    "    def withdrawal (self, wd_amount):\n",
    "        if self.balance >= wd_amount:\n",
    "            self.balance -= wd_amount\n",
    "            print('withdrawal success')\n",
    "            \n",
    "        else:\n",
    "            print('Your balance doesn\\'t enough')\n",
    "            \n",
    "    def __str__ (self):\n",
    "        return ('Owner: {} \\nBalance: {}'.format(self.owner, self.balance))"
   ]
  },
  {
   "cell_type": "code",
   "execution_count": 42,
   "id": "a18c0618",
   "metadata": {},
   "outputs": [],
   "source": [
    "account = Account('itik', 50000)"
   ]
  },
  {
   "cell_type": "code",
   "execution_count": 43,
   "id": "bd9e8636",
   "metadata": {},
   "outputs": [
    {
     "data": {
      "text/plain": [
       "'itik'"
      ]
     },
     "execution_count": 43,
     "metadata": {},
     "output_type": "execute_result"
    }
   ],
   "source": [
    "account.owner"
   ]
  },
  {
   "cell_type": "code",
   "execution_count": 44,
   "id": "0512691f",
   "metadata": {},
   "outputs": [
    {
     "data": {
      "text/plain": [
       "50000"
      ]
     },
     "execution_count": 44,
     "metadata": {},
     "output_type": "execute_result"
    }
   ],
   "source": [
    "account.balance"
   ]
  },
  {
   "cell_type": "code",
   "execution_count": 45,
   "id": "a5d36383",
   "metadata": {},
   "outputs": [
    {
     "name": "stdout",
     "output_type": "stream",
     "text": [
      "Adding 10000 to your account\n"
     ]
    }
   ],
   "source": [
    "account.deposit(10000)"
   ]
  },
  {
   "cell_type": "code",
   "execution_count": 46,
   "id": "33c9832e",
   "metadata": {},
   "outputs": [
    {
     "data": {
      "text/plain": [
       "60000"
      ]
     },
     "execution_count": 46,
     "metadata": {},
     "output_type": "execute_result"
    }
   ],
   "source": [
    "account.balance"
   ]
  },
  {
   "cell_type": "code",
   "execution_count": 47,
   "id": "f14baf97",
   "metadata": {},
   "outputs": [
    {
     "name": "stdout",
     "output_type": "stream",
     "text": [
      "withdrawal success\n"
     ]
    }
   ],
   "source": [
    "account.withdrawal(15000)"
   ]
  },
  {
   "cell_type": "code",
   "execution_count": 48,
   "id": "7c3478d0",
   "metadata": {},
   "outputs": [
    {
     "data": {
      "text/plain": [
       "45000"
      ]
     },
     "execution_count": 48,
     "metadata": {},
     "output_type": "execute_result"
    }
   ],
   "source": [
    "account.balance"
   ]
  },
  {
   "cell_type": "code",
   "execution_count": 49,
   "id": "b94418b7",
   "metadata": {},
   "outputs": [
    {
     "name": "stdout",
     "output_type": "stream",
     "text": [
      "Your balance doesn't enough\n"
     ]
    }
   ],
   "source": [
    "account.withdrawal(120398)"
   ]
  },
  {
   "cell_type": "code",
   "execution_count": 50,
   "id": "84f5ca81",
   "metadata": {},
   "outputs": [
    {
     "name": "stdout",
     "output_type": "stream",
     "text": [
      "Owner: itik \n",
      "Balance: 45000\n"
     ]
    }
   ],
   "source": [
    "print(account)"
   ]
  },
  {
   "cell_type": "markdown",
   "id": "c3010e78",
   "metadata": {},
   "source": [
    "### LATIHAN 5\n",
    "```\n",
    "Coba sekarang lo buat 'class' bernama 'Bank' yang di dalamnya memiliki attribute:\n",
    "- owner\n",
    "- balance\n",
    "\n",
    "Dengan 2 method di dalam classnya yang bernama:\n",
    "\n",
    "- deposit\n",
    "- withdrawal\n",
    "\n",
    "Dengan kondisi classnya itu dapat bekerja ketika dia menabung dan mengambil uang. Dan dengan syarat tambahan, uang yang ditarik tidak boleh melebihi dari sisa saldonya, lalu berikan keterangan ketika orang itu mengambil uang melebihi sisa saldonya.\n",
    "```"
   ]
  },
  {
   "cell_type": "code",
   "execution_count": 51,
   "id": "e0796d71",
   "metadata": {},
   "outputs": [],
   "source": [
    "class Account():\n",
    "    \n",
    "    def __init__(self, owner, balance):\n",
    "        self.owner = owner\n",
    "        self.balance = balance\n",
    "        \n",
    "    def deposit (self, depo_amount):\n",
    "        self.balance += depo_amount\n",
    "        print('You adding {} to your balance'.format(depo_amount))\n",
    "        \n",
    "    def withdrawal (self, wd_amount):\n",
    "        if self.balance >= wd_amount:\n",
    "            self.balance -= wd_amount\n",
    "            print('Transaction is success')\n",
    "        \n",
    "        else:\n",
    "            print('Your money doesn\\'t enough, Bro!')\n",
    "            \n",
    "    def __str__ (self):\n",
    "        return (f'Nama pemilik: {self.owner} \\nBalance {self.balance}')"
   ]
  },
  {
   "cell_type": "code",
   "execution_count": 52,
   "id": "78179a6e",
   "metadata": {},
   "outputs": [],
   "source": [
    "acc = Account('burung', 12000)"
   ]
  },
  {
   "cell_type": "code",
   "execution_count": 53,
   "id": "611e1d89",
   "metadata": {},
   "outputs": [
    {
     "data": {
      "text/plain": [
       "'burung'"
      ]
     },
     "execution_count": 53,
     "metadata": {},
     "output_type": "execute_result"
    }
   ],
   "source": [
    "acc.owner"
   ]
  },
  {
   "cell_type": "code",
   "execution_count": 54,
   "id": "cc90f8e2",
   "metadata": {},
   "outputs": [
    {
     "data": {
      "text/plain": [
       "12000"
      ]
     },
     "execution_count": 54,
     "metadata": {},
     "output_type": "execute_result"
    }
   ],
   "source": [
    "acc.balance"
   ]
  },
  {
   "cell_type": "code",
   "execution_count": 55,
   "id": "d8617526",
   "metadata": {},
   "outputs": [
    {
     "name": "stdout",
     "output_type": "stream",
     "text": [
      "You adding 100000 to your balance\n"
     ]
    }
   ],
   "source": [
    "acc.deposit(100000)"
   ]
  },
  {
   "cell_type": "code",
   "execution_count": 56,
   "id": "05ad925d",
   "metadata": {},
   "outputs": [
    {
     "data": {
      "text/plain": [
       "112000"
      ]
     },
     "execution_count": 56,
     "metadata": {},
     "output_type": "execute_result"
    }
   ],
   "source": [
    "acc.balance"
   ]
  },
  {
   "cell_type": "code",
   "execution_count": 57,
   "id": "c8e16d50",
   "metadata": {},
   "outputs": [
    {
     "name": "stdout",
     "output_type": "stream",
     "text": [
      "Transaction is success\n"
     ]
    }
   ],
   "source": [
    "acc.withdrawal(wd_amount=500)"
   ]
  },
  {
   "cell_type": "code",
   "execution_count": 58,
   "id": "2b539316",
   "metadata": {},
   "outputs": [
    {
     "data": {
      "text/plain": [
       "111500"
      ]
     },
     "execution_count": 58,
     "metadata": {},
     "output_type": "execute_result"
    }
   ],
   "source": [
    "acc.balance"
   ]
  },
  {
   "cell_type": "code",
   "execution_count": 59,
   "id": "848ae828",
   "metadata": {},
   "outputs": [
    {
     "name": "stdout",
     "output_type": "stream",
     "text": [
      "Your money doesn't enough, Bro!\n"
     ]
    }
   ],
   "source": [
    "acc.withdrawal(9999999)"
   ]
  },
  {
   "cell_type": "code",
   "execution_count": 60,
   "id": "f0c6eb7e",
   "metadata": {},
   "outputs": [
    {
     "name": "stdout",
     "output_type": "stream",
     "text": [
      "Nama pemilik: burung \n",
      "Balance 111500\n"
     ]
    }
   ],
   "source": [
    "print(acc)"
   ]
  },
  {
   "cell_type": "markdown",
   "id": "cb55b393",
   "metadata": {},
   "source": [
    "### LATIHAN 6\n",
    "```\n",
    "Coba sekarang lo buat 'class' bernama 'Bank' yang di dalamnya memiliki attribute:\n",
    "- owner\n",
    "- balance\n",
    "\n",
    "Dengan 2 method di dalam classnya yang bernama:\n",
    "\n",
    "- deposit\n",
    "- withdrawal\n",
    "\n",
    "Dengan kondisi classnya itu dapat bekerja ketika dia menabung dan mengambil uang. Dan dengan syarat tambahan, uang yang ditarik tidak boleh melebihi dari sisa saldonya, lalu berikan keterangan ketika orang itu mengambil uang melebihi sisa saldonya.\n",
    "```"
   ]
  },
  {
   "cell_type": "code",
   "execution_count": 61,
   "id": "66cb5f14",
   "metadata": {},
   "outputs": [],
   "source": [
    "class Account():\n",
    "    \n",
    "    def __init__ (self, owner, balance):\n",
    "        self.owner = owner \n",
    "        self.balance = balance\n",
    "        \n",
    "    def deposit(self, depo_amount):\n",
    "        self.balance = self.balance + depo_amount\n",
    "        print ('Adding {} to your balance'.format (depo_amount))\n",
    "        \n",
    "    def withdrawal (self, wd_amount):\n",
    "        if self.balance >= wd_amount:\n",
    "            self.balance = self.balance - wd_amount\n",
    "            print ('Withdrawal accepted')\n",
    "            \n",
    "        else:\n",
    "            print(f'Your balance remains {self.balance}')\n",
    "            \n",
    "    def __str__ (self):\n",
    "        return ('Owner: {} \\nBalance: {}'.format(self.owner, self.balance))"
   ]
  },
  {
   "cell_type": "code",
   "execution_count": 62,
   "id": "a8f1ee56",
   "metadata": {},
   "outputs": [],
   "source": [
    "acc1 = Account ('Beruang', 1000000000)"
   ]
  },
  {
   "cell_type": "code",
   "execution_count": 63,
   "id": "504d35f1",
   "metadata": {},
   "outputs": [
    {
     "data": {
      "text/plain": [
       "'Beruang'"
      ]
     },
     "execution_count": 63,
     "metadata": {},
     "output_type": "execute_result"
    }
   ],
   "source": [
    "acc1.owner"
   ]
  },
  {
   "cell_type": "code",
   "execution_count": 64,
   "id": "35d856d8",
   "metadata": {},
   "outputs": [
    {
     "data": {
      "text/plain": [
       "1000000000"
      ]
     },
     "execution_count": 64,
     "metadata": {},
     "output_type": "execute_result"
    }
   ],
   "source": [
    "acc1.balance"
   ]
  },
  {
   "cell_type": "code",
   "execution_count": 65,
   "id": "c7095d2e",
   "metadata": {},
   "outputs": [
    {
     "name": "stdout",
     "output_type": "stream",
     "text": [
      "Adding 1200000 to your balance\n"
     ]
    }
   ],
   "source": [
    "acc1.deposit(1200000)"
   ]
  },
  {
   "cell_type": "code",
   "execution_count": 66,
   "id": "1688513b",
   "metadata": {},
   "outputs": [
    {
     "data": {
      "text/plain": [
       "1001200000"
      ]
     },
     "execution_count": 66,
     "metadata": {},
     "output_type": "execute_result"
    }
   ],
   "source": [
    "acc1.balance"
   ]
  },
  {
   "cell_type": "code",
   "execution_count": 67,
   "id": "82deac51",
   "metadata": {},
   "outputs": [
    {
     "name": "stdout",
     "output_type": "stream",
     "text": [
      "Withdrawal accepted\n"
     ]
    }
   ],
   "source": [
    "acc1.withdrawal(5020000)"
   ]
  },
  {
   "cell_type": "code",
   "execution_count": 68,
   "id": "bd48b733",
   "metadata": {},
   "outputs": [
    {
     "data": {
      "text/plain": [
       "996180000"
      ]
     },
     "execution_count": 68,
     "metadata": {},
     "output_type": "execute_result"
    }
   ],
   "source": [
    "acc1.balance"
   ]
  },
  {
   "cell_type": "code",
   "execution_count": 69,
   "id": "3cb54bd3",
   "metadata": {},
   "outputs": [
    {
     "name": "stdout",
     "output_type": "stream",
     "text": [
      "Your balance remains 996180000\n"
     ]
    }
   ],
   "source": [
    "acc1.withdrawal(99999999999999)"
   ]
  },
  {
   "cell_type": "code",
   "execution_count": 70,
   "id": "085e466b",
   "metadata": {},
   "outputs": [
    {
     "name": "stdout",
     "output_type": "stream",
     "text": [
      "Owner: Beruang \n",
      "Balance: 996180000\n"
     ]
    }
   ],
   "source": [
    "print(acc1)"
   ]
  },
  {
   "cell_type": "markdown",
   "id": "9d97cbc0",
   "metadata": {},
   "source": [
    "### LATIHAN 7\n",
    "```\n",
    "Coba sekarang lo buat 'class' bernama 'Bank' yang di dalamnya memiliki attribute:\n",
    "- owner\n",
    "- balance\n",
    "\n",
    "Dengan 2 method di dalam classnya yang bernama:\n",
    "\n",
    "- deposit\n",
    "- withdrawal\n",
    "\n",
    "Dengan kondisi classnya itu dapat bekerja ketika dia menabung dan mengambil uang. Dan dengan syarat tambahan, uang yang ditarik tidak boleh melebihi dari sisa saldonya, lalu berikan keterangan ketika orang itu mengambil uang melebihi sisa saldonya.\n",
    "```"
   ]
  },
  {
   "cell_type": "code",
   "execution_count": 71,
   "id": "43d29070",
   "metadata": {},
   "outputs": [],
   "source": [
    "class Account():\n",
    "    \n",
    "    def __init__ (self, owner, balance):\n",
    "        self.owner = owner\n",
    "        self.balance = balance\n",
    "    \n",
    "    def deposit (self, depo_amount):\n",
    "        self.balance = self.balance + depo_amount\n",
    "        print('Jumlah uang yang anda tabung sebesar {}'.format(depo_amount))\n",
    "        \n",
    "    def withdrawal (self, wd_amount):\n",
    "        if self.balance >= wd_amount:\n",
    "            self.balance -= wd_amount\n",
    "            print ('Transaksi berhasil, Bos!')\n",
    "        \n",
    "        else:\n",
    "            print (f'Sisa uang lo tuh tinggal {self.balance}, jadi gak cukup')\n",
    "            \n",
    "    def __str__ (self):\n",
    "        return ('Nama pemilik akun: {} \\nSisa saldo: {}'.format(self.owner, self.balance))"
   ]
  },
  {
   "cell_type": "code",
   "execution_count": 72,
   "id": "c2914a91",
   "metadata": {},
   "outputs": [],
   "source": [
    "accountku = Account('Tikus', 4000000)"
   ]
  },
  {
   "cell_type": "code",
   "execution_count": 73,
   "id": "e898a1b6",
   "metadata": {},
   "outputs": [
    {
     "data": {
      "text/plain": [
       "'Tikus'"
      ]
     },
     "execution_count": 73,
     "metadata": {},
     "output_type": "execute_result"
    }
   ],
   "source": [
    "accountku.owner"
   ]
  },
  {
   "cell_type": "code",
   "execution_count": 74,
   "id": "c3186bf9",
   "metadata": {},
   "outputs": [
    {
     "data": {
      "text/plain": [
       "4000000"
      ]
     },
     "execution_count": 74,
     "metadata": {},
     "output_type": "execute_result"
    }
   ],
   "source": [
    "accountku.balance"
   ]
  },
  {
   "cell_type": "code",
   "execution_count": 75,
   "id": "9f7e8906",
   "metadata": {},
   "outputs": [
    {
     "name": "stdout",
     "output_type": "stream",
     "text": [
      "Jumlah uang yang anda tabung sebesar 100000\n"
     ]
    }
   ],
   "source": [
    "accountku.deposit(100000)"
   ]
  },
  {
   "cell_type": "code",
   "execution_count": 76,
   "id": "96bdf8b4",
   "metadata": {},
   "outputs": [
    {
     "data": {
      "text/plain": [
       "4100000"
      ]
     },
     "execution_count": 76,
     "metadata": {},
     "output_type": "execute_result"
    }
   ],
   "source": [
    "accountku.balance"
   ]
  },
  {
   "cell_type": "code",
   "execution_count": 77,
   "id": "ce44f299",
   "metadata": {},
   "outputs": [
    {
     "name": "stdout",
     "output_type": "stream",
     "text": [
      "Transaksi berhasil, Bos!\n"
     ]
    }
   ],
   "source": [
    "accountku.withdrawal(wd_amount=300000)"
   ]
  },
  {
   "cell_type": "code",
   "execution_count": 78,
   "id": "31f39dd9",
   "metadata": {},
   "outputs": [
    {
     "data": {
      "text/plain": [
       "3800000"
      ]
     },
     "execution_count": 78,
     "metadata": {},
     "output_type": "execute_result"
    }
   ],
   "source": [
    "accountku.balance"
   ]
  },
  {
   "cell_type": "code",
   "execution_count": 79,
   "id": "8c2aea88",
   "metadata": {},
   "outputs": [
    {
     "name": "stdout",
     "output_type": "stream",
     "text": [
      "Sisa uang lo tuh tinggal 3800000, jadi gak cukup\n"
     ]
    }
   ],
   "source": [
    "accountku.withdrawal(wd_amount=10000000)"
   ]
  },
  {
   "cell_type": "code",
   "execution_count": 80,
   "id": "138739b9",
   "metadata": {},
   "outputs": [
    {
     "name": "stdout",
     "output_type": "stream",
     "text": [
      "Nama pemilik akun: Tikus \n",
      "Sisa saldo: 3800000\n"
     ]
    }
   ],
   "source": [
    "print(accountku)"
   ]
  },
  {
   "cell_type": "markdown",
   "id": "0aa2ae40",
   "metadata": {},
   "source": [
    "### LATIHAN 8\n",
    "```\n",
    "Coba sekarang lo buat 'class' bernama 'Bank' yang di dalamnya memiliki attribute:\n",
    "- owner\n",
    "- balance\n",
    "\n",
    "Dengan 2 method di dalam classnya yang bernama:\n",
    "\n",
    "- deposit\n",
    "- withdrawal\n",
    "\n",
    "Dengan kondisi classnya itu dapat bekerja ketika dia menabung dan mengambil uang. Dan dengan syarat tambahan, uang yang ditarik tidak boleh melebihi dari sisa saldonya, lalu berikan keterangan ketika orang itu mengambil uang melebihi sisa saldonya.\n",
    "```"
   ]
  },
  {
   "cell_type": "code",
   "execution_count": 81,
   "id": "a1d1f44d",
   "metadata": {},
   "outputs": [],
   "source": [
    "class Account:\n",
    "    \n",
    "    def __init__ (self, owner, balance):\n",
    "        self.owner = owner\n",
    "        self.balance = balance\n",
    "        \n",
    "    def deposit (self, depo_amount):\n",
    "        self.balance = self.balance + depo_amount\n",
    "        print('Anda berhasil menabung sebesar {}'.format (depo_amount))\n",
    "        \n",
    "    def withdrawal (self, wd_amount):\n",
    "        if self.balance >= wd_amount:\n",
    "            self.balance -= wd_amount\n",
    "            print ('Transaksi berhasil.')\n",
    "                \n",
    "        else:\n",
    "            print ('Saldonya gak cukup, Sayang.')\n",
    "            \n",
    "    def __str__ (self):\n",
    "        return (f'Owner: {self.owner} \\nBalance: {self.balance}')"
   ]
  },
  {
   "cell_type": "code",
   "execution_count": 82,
   "id": "93d6c1be",
   "metadata": {},
   "outputs": [],
   "source": [
    "account_say = Account('Sayang', 1000000)"
   ]
  },
  {
   "cell_type": "code",
   "execution_count": 83,
   "id": "c98af18b",
   "metadata": {},
   "outputs": [
    {
     "data": {
      "text/plain": [
       "'Sayang'"
      ]
     },
     "execution_count": 83,
     "metadata": {},
     "output_type": "execute_result"
    }
   ],
   "source": [
    "account_say.owner"
   ]
  },
  {
   "cell_type": "code",
   "execution_count": 84,
   "id": "f9745f3b",
   "metadata": {},
   "outputs": [
    {
     "data": {
      "text/plain": [
       "1000000"
      ]
     },
     "execution_count": 84,
     "metadata": {},
     "output_type": "execute_result"
    }
   ],
   "source": [
    "account_say.balance"
   ]
  },
  {
   "cell_type": "code",
   "execution_count": 85,
   "id": "b4e54d3a",
   "metadata": {},
   "outputs": [
    {
     "name": "stdout",
     "output_type": "stream",
     "text": [
      "Anda berhasil menabung sebesar 500000\n"
     ]
    }
   ],
   "source": [
    "account_say.deposit(depo_amount=500000)"
   ]
  },
  {
   "cell_type": "code",
   "execution_count": 86,
   "id": "b14a37d8",
   "metadata": {},
   "outputs": [
    {
     "data": {
      "text/plain": [
       "1500000"
      ]
     },
     "execution_count": 86,
     "metadata": {},
     "output_type": "execute_result"
    }
   ],
   "source": [
    "account_say.balance"
   ]
  },
  {
   "cell_type": "code",
   "execution_count": 87,
   "id": "4870ebb6",
   "metadata": {},
   "outputs": [
    {
     "name": "stdout",
     "output_type": "stream",
     "text": [
      "Transaksi berhasil.\n"
     ]
    }
   ],
   "source": [
    "account_say.withdrawal(50000)"
   ]
  },
  {
   "cell_type": "code",
   "execution_count": 88,
   "id": "067df249",
   "metadata": {},
   "outputs": [
    {
     "data": {
      "text/plain": [
       "1450000"
      ]
     },
     "execution_count": 88,
     "metadata": {},
     "output_type": "execute_result"
    }
   ],
   "source": [
    "account_say.balance"
   ]
  },
  {
   "cell_type": "code",
   "execution_count": 89,
   "id": "309932a9",
   "metadata": {},
   "outputs": [
    {
     "name": "stdout",
     "output_type": "stream",
     "text": [
      "Saldonya gak cukup, Sayang.\n"
     ]
    }
   ],
   "source": [
    "account_say.withdrawal(2000000)"
   ]
  },
  {
   "cell_type": "code",
   "execution_count": 90,
   "id": "4b3fedc2",
   "metadata": {},
   "outputs": [
    {
     "name": "stdout",
     "output_type": "stream",
     "text": [
      "Owner: Sayang \n",
      "Balance: 1450000\n"
     ]
    }
   ],
   "source": [
    "print(account_say)"
   ]
  },
  {
   "cell_type": "markdown",
   "id": "79651d5f",
   "metadata": {},
   "source": [
    "### LATIHAN 9\n",
    "```\n",
    "Coba sekarang lo buat 'class' bernama 'Bank' yang di dalamnya memiliki attribute:\n",
    "- owner\n",
    "- balance\n",
    "\n",
    "Dengan 2 method di dalam classnya yang bernama:\n",
    "\n",
    "- deposit\n",
    "- withdrawal\n",
    "\n",
    "Dengan kondisi classnya itu dapat bekerja ketika dia menabung dan mengambil uang. Dan dengan syarat tambahan, uang yang ditarik tidak boleh melebihi dari sisa saldonya, lalu berikan keterangan ketika orang itu mengambil uang melebihi sisa saldonya.\n",
    "```"
   ]
  },
  {
   "cell_type": "code",
   "execution_count": 91,
   "id": "30bb0bf5",
   "metadata": {},
   "outputs": [],
   "source": [
    "class Account:\n",
    "    \n",
    "    def __init__ (self, owner, balance):\n",
    "        self.owner = owner\n",
    "        self.balance = balance\n",
    "        \n",
    "    def deposit (self, depo_amount):\n",
    "        self.balance = self.balance + depo_amount\n",
    "        print ('Uang yang anda tabung sebesar {}'.format(depo_amount))\n",
    "        \n",
    "    def withdrawal (self, wd_amount):\n",
    "        if self.balance >= wd_amount:\n",
    "            self.balance = self.balance + wd_amount\n",
    "            print('Anda telah menarik saldo sebesar {}'.format(wd_amount))\n",
    "            \n",
    "        else:\n",
    "            print('Uangnya gak cukup. Nabung dari dulu makanya biar kaya!')\n",
    "            \n",
    "    def __str__ (self):\n",
    "        return (f'Owner: {self.owner} \\nBalance: {self.balance}')"
   ]
  },
  {
   "cell_type": "code",
   "execution_count": 92,
   "id": "0d459091",
   "metadata": {},
   "outputs": [],
   "source": [
    "accccc = Account('mamang_bakso', 15000000)"
   ]
  },
  {
   "cell_type": "code",
   "execution_count": 93,
   "id": "836d19bb",
   "metadata": {},
   "outputs": [
    {
     "data": {
      "text/plain": [
       "'mamang_bakso'"
      ]
     },
     "execution_count": 93,
     "metadata": {},
     "output_type": "execute_result"
    }
   ],
   "source": [
    "accccc.owner"
   ]
  },
  {
   "cell_type": "code",
   "execution_count": 94,
   "id": "10d01edf",
   "metadata": {},
   "outputs": [
    {
     "data": {
      "text/plain": [
       "15000000"
      ]
     },
     "execution_count": 94,
     "metadata": {},
     "output_type": "execute_result"
    }
   ],
   "source": [
    "accccc.balance"
   ]
  },
  {
   "cell_type": "code",
   "execution_count": 95,
   "id": "c98a4a6b",
   "metadata": {},
   "outputs": [
    {
     "name": "stdout",
     "output_type": "stream",
     "text": [
      "Uang yang anda tabung sebesar 2000000\n"
     ]
    }
   ],
   "source": [
    "accccc.deposit (2000000)"
   ]
  },
  {
   "cell_type": "code",
   "execution_count": 96,
   "id": "8e5c0625",
   "metadata": {},
   "outputs": [
    {
     "data": {
      "text/plain": [
       "17000000"
      ]
     },
     "execution_count": 96,
     "metadata": {},
     "output_type": "execute_result"
    }
   ],
   "source": [
    "accccc.balance"
   ]
  },
  {
   "cell_type": "code",
   "execution_count": 97,
   "id": "30111aae",
   "metadata": {},
   "outputs": [
    {
     "name": "stdout",
     "output_type": "stream",
     "text": [
      "Anda telah menarik saldo sebesar 4300000\n"
     ]
    }
   ],
   "source": [
    "accccc.withdrawal(wd_amount=4300000)"
   ]
  },
  {
   "cell_type": "code",
   "execution_count": 98,
   "id": "63562294",
   "metadata": {},
   "outputs": [
    {
     "data": {
      "text/plain": [
       "21300000"
      ]
     },
     "execution_count": 98,
     "metadata": {},
     "output_type": "execute_result"
    }
   ],
   "source": [
    "accccc.balance"
   ]
  },
  {
   "cell_type": "code",
   "execution_count": 99,
   "id": "46151a90",
   "metadata": {},
   "outputs": [
    {
     "name": "stdout",
     "output_type": "stream",
     "text": [
      "Uangnya gak cukup. Nabung dari dulu makanya biar kaya!\n"
     ]
    }
   ],
   "source": [
    "accccc.withdrawal(1000000000000)"
   ]
  },
  {
   "cell_type": "code",
   "execution_count": 100,
   "id": "3eba9f2a",
   "metadata": {},
   "outputs": [
    {
     "name": "stdout",
     "output_type": "stream",
     "text": [
      "Owner: mamang_bakso \n",
      "Balance: 21300000\n"
     ]
    }
   ],
   "source": [
    "print(accccc)"
   ]
  },
  {
   "cell_type": "markdown",
   "id": "02249602",
   "metadata": {},
   "source": [
    "### LATIHAN 10\n",
    "```\n",
    "Coba sekarang lo buat 'class' bernama 'Bank' yang di dalamnya memiliki attribute:\n",
    "- owner\n",
    "- balance\n",
    "\n",
    "Dengan 2 method di dalam classnya yang bernama:\n",
    "\n",
    "- deposit\n",
    "- withdrawal\n",
    "\n",
    "Dengan kondisi classnya itu dapat bekerja ketika dia menabung dan mengambil uang. Dan dengan syarat tambahan, uang yang ditarik tidak boleh melebihi dari sisa saldonya, lalu berikan keterangan ketika orang itu mengambil uang melebihi sisa saldonya.\n",
    "```"
   ]
  },
  {
   "cell_type": "code",
   "execution_count": 101,
   "id": "fdc11b69",
   "metadata": {},
   "outputs": [],
   "source": [
    "class Account():\n",
    "    \n",
    "    def __init__(self, owner, balance):\n",
    "        self.owner = owner\n",
    "        self.balance = balance\n",
    "        \n",
    "    def deposit(self, depo_amount):\n",
    "        self.balance = self.balance + depo_amount\n",
    "        print('You adding {} to your account'.format (depo_amount))\n",
    "        \n",
    "    def withdrawal (self, wd_amount):\n",
    "        if self.balance >= wd_amount:\n",
    "            self.balance -= wd_amount\n",
    "            print('Anda telah menarik uang sebesar {}'.format (wd_amount))\n",
    "            \n",
    "        else:\n",
    "            print (f'Saldo anda tidak cukup karena sisa {self.balance}')\n",
    "    \n",
    "    def __str__ (self):\n",
    "        return (f'Owner: {self.owner} \\nBalance: {self.balance}')"
   ]
  },
  {
   "cell_type": "code",
   "execution_count": 102,
   "id": "fe86e05d",
   "metadata": {},
   "outputs": [],
   "source": [
    "akun = Account('Semut', 200)"
   ]
  },
  {
   "cell_type": "code",
   "execution_count": 103,
   "id": "f48fa877",
   "metadata": {},
   "outputs": [
    {
     "data": {
      "text/plain": [
       "'Semut'"
      ]
     },
     "execution_count": 103,
     "metadata": {},
     "output_type": "execute_result"
    }
   ],
   "source": [
    "akun.owner"
   ]
  },
  {
   "cell_type": "code",
   "execution_count": 104,
   "id": "cebf0050",
   "metadata": {},
   "outputs": [
    {
     "data": {
      "text/plain": [
       "200"
      ]
     },
     "execution_count": 104,
     "metadata": {},
     "output_type": "execute_result"
    }
   ],
   "source": [
    "akun.balance"
   ]
  },
  {
   "cell_type": "code",
   "execution_count": 105,
   "id": "1ddde50c",
   "metadata": {},
   "outputs": [
    {
     "name": "stdout",
     "output_type": "stream",
     "text": [
      "You adding 3000000 to your account\n"
     ]
    }
   ],
   "source": [
    "akun.deposit(3000000)"
   ]
  },
  {
   "cell_type": "code",
   "execution_count": 106,
   "id": "23d3aa71",
   "metadata": {},
   "outputs": [
    {
     "data": {
      "text/plain": [
       "3000200"
      ]
     },
     "execution_count": 106,
     "metadata": {},
     "output_type": "execute_result"
    }
   ],
   "source": [
    "akun.balance"
   ]
  },
  {
   "cell_type": "code",
   "execution_count": 107,
   "id": "2cc472c4",
   "metadata": {},
   "outputs": [
    {
     "name": "stdout",
     "output_type": "stream",
     "text": [
      "Anda telah menarik uang sebesar 250000\n"
     ]
    }
   ],
   "source": [
    "akun.withdrawal(250000)"
   ]
  },
  {
   "cell_type": "code",
   "execution_count": 108,
   "id": "af9370dc",
   "metadata": {},
   "outputs": [
    {
     "data": {
      "text/plain": [
       "2750200"
      ]
     },
     "execution_count": 108,
     "metadata": {},
     "output_type": "execute_result"
    }
   ],
   "source": [
    "akun.balance"
   ]
  },
  {
   "cell_type": "code",
   "execution_count": 109,
   "id": "bae87c94",
   "metadata": {},
   "outputs": [
    {
     "name": "stdout",
     "output_type": "stream",
     "text": [
      "Saldo anda tidak cukup karena sisa 2750200\n"
     ]
    }
   ],
   "source": [
    "akun.withdrawal(10000000000000)"
   ]
  },
  {
   "cell_type": "code",
   "execution_count": 110,
   "id": "99bf563e",
   "metadata": {
    "scrolled": true
   },
   "outputs": [
    {
     "name": "stdout",
     "output_type": "stream",
     "text": [
      "Owner: Semut \n",
      "Balance: 2750200\n"
     ]
    }
   ],
   "source": [
    "print(akun)"
   ]
  }
 ],
 "metadata": {
  "kernelspec": {
   "display_name": "Python 3 (ipykernel)",
   "language": "python",
   "name": "python3"
  },
  "language_info": {
   "codemirror_mode": {
    "name": "ipython",
    "version": 3
   },
   "file_extension": ".py",
   "mimetype": "text/x-python",
   "name": "python",
   "nbconvert_exporter": "python",
   "pygments_lexer": "ipython3",
   "version": "3.8.12"
  },
  "varInspector": {
   "cols": {
    "lenName": 16,
    "lenType": 16,
    "lenVar": 40
   },
   "kernels_config": {
    "python": {
     "delete_cmd_postfix": "",
     "delete_cmd_prefix": "del ",
     "library": "var_list.py",
     "varRefreshCmd": "print(var_dic_list())"
    },
    "r": {
     "delete_cmd_postfix": ") ",
     "delete_cmd_prefix": "rm(",
     "library": "var_list.r",
     "varRefreshCmd": "cat(var_dic_list()) "
    }
   },
   "types_to_exclude": [
    "module",
    "function",
    "builtin_function_or_method",
    "instance",
    "_Feature"
   ],
   "window_display": false
  }
 },
 "nbformat": 4,
 "nbformat_minor": 5
}
